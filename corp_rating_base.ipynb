{
 "cells": [
  {
   "cell_type": "code",
   "execution_count": 4,
   "metadata": {},
   "outputs": [],
   "source": [
    "import pandas as pd\n",
    "import requests\n",
    "from bs4 import BeautifulSoup\n",
    "from selenium import webdriver\n",
    "import time\n",
    "from selenium.webdriver.common.keys import Keys"
   ]
  },
  {
   "cell_type": "code",
   "execution_count": 2,
   "metadata": {},
   "outputs": [
    {
     "data": {
      "text/html": [
       "<div>\n",
       "<style scoped>\n",
       "    .dataframe tbody tr th:only-of-type {\n",
       "        vertical-align: middle;\n",
       "    }\n",
       "\n",
       "    .dataframe tbody tr th {\n",
       "        vertical-align: top;\n",
       "    }\n",
       "\n",
       "    .dataframe thead th {\n",
       "        text-align: right;\n",
       "    }\n",
       "</style>\n",
       "<table border=\"1\" class=\"dataframe\">\n",
       "  <thead>\n",
       "    <tr style=\"text-align: right;\">\n",
       "      <th></th>\n",
       "      <th>회사명</th>\n",
       "      <th>종목코드</th>\n",
       "      <th>업종</th>\n",
       "      <th>지역</th>\n",
       "    </tr>\n",
       "  </thead>\n",
       "  <tbody>\n",
       "    <tr>\n",
       "      <th>0</th>\n",
       "      <td>DSR</td>\n",
       "      <td>155660</td>\n",
       "      <td>1차 비철금속 제조업</td>\n",
       "      <td>부산광역시</td>\n",
       "    </tr>\n",
       "    <tr>\n",
       "      <th>1</th>\n",
       "      <td>GS</td>\n",
       "      <td>078930</td>\n",
       "      <td>기타 금융업</td>\n",
       "      <td>서울특별시</td>\n",
       "    </tr>\n",
       "    <tr>\n",
       "      <th>2</th>\n",
       "      <td>GS글로벌</td>\n",
       "      <td>001250</td>\n",
       "      <td>상품 종합 도매업</td>\n",
       "      <td>서울특별시</td>\n",
       "    </tr>\n",
       "    <tr>\n",
       "      <th>3</th>\n",
       "      <td>HDC현대산업개발</td>\n",
       "      <td>294870</td>\n",
       "      <td>건물 건설업</td>\n",
       "      <td>서울특별시</td>\n",
       "    </tr>\n",
       "    <tr>\n",
       "      <th>4</th>\n",
       "      <td>LG이노텍</td>\n",
       "      <td>011070</td>\n",
       "      <td>전자부품 제조업</td>\n",
       "      <td>서울특별시</td>\n",
       "    </tr>\n",
       "    <tr>\n",
       "      <th>...</th>\n",
       "      <td>...</td>\n",
       "      <td>...</td>\n",
       "      <td>...</td>\n",
       "      <td>...</td>\n",
       "    </tr>\n",
       "    <tr>\n",
       "      <th>2347</th>\n",
       "      <td>지앤이헬스케어</td>\n",
       "      <td>299480</td>\n",
       "      <td>기타 섬유제품 제조업</td>\n",
       "      <td>경기도</td>\n",
       "    </tr>\n",
       "    <tr>\n",
       "      <th>2348</th>\n",
       "      <td>코셋</td>\n",
       "      <td>189350</td>\n",
       "      <td>통신 및 방송 장비 제조업</td>\n",
       "      <td>광주광역시</td>\n",
       "    </tr>\n",
       "    <tr>\n",
       "      <th>2349</th>\n",
       "      <td>툴젠</td>\n",
       "      <td>199800</td>\n",
       "      <td>자연과학 및 공학 연구개발업</td>\n",
       "      <td>서울특별시</td>\n",
       "    </tr>\n",
       "    <tr>\n",
       "      <th>2350</th>\n",
       "      <td>한국미라클피플사</td>\n",
       "      <td>331660</td>\n",
       "      <td>기타 화학제품 제조업</td>\n",
       "      <td>경기도</td>\n",
       "    </tr>\n",
       "    <tr>\n",
       "      <th>2351</th>\n",
       "      <td>휴벡셀</td>\n",
       "      <td>212310</td>\n",
       "      <td>의료용 기기 제조업</td>\n",
       "      <td>경기도</td>\n",
       "    </tr>\n",
       "  </tbody>\n",
       "</table>\n",
       "<p>2352 rows × 4 columns</p>\n",
       "</div>"
      ],
      "text/plain": [
       "            회사명    종목코드               업종     지역\n",
       "0           DSR  155660      1차 비철금속 제조업  부산광역시\n",
       "1            GS  078930           기타 금융업  서울특별시\n",
       "2         GS글로벌  001250        상품 종합 도매업  서울특별시\n",
       "3     HDC현대산업개발  294870           건물 건설업  서울특별시\n",
       "4         LG이노텍  011070         전자부품 제조업  서울특별시\n",
       "...         ...     ...              ...    ...\n",
       "2347    지앤이헬스케어  299480      기타 섬유제품 제조업    경기도\n",
       "2348         코셋  189350   통신 및 방송 장비 제조업  광주광역시\n",
       "2349         툴젠  199800  자연과학 및 공학 연구개발업  서울특별시\n",
       "2350   한국미라클피플사  331660      기타 화학제품 제조업    경기도\n",
       "2351        휴벡셀  212310       의료용 기기 제조업    경기도\n",
       "\n",
       "[2352 rows x 4 columns]"
      ]
     },
     "execution_count": 2,
     "metadata": {},
     "output_type": "execute_result"
    }
   ],
   "source": [
    "stock_df = pd.read_html( 'http://kind.krx.co.kr/corpgeneral/corpList.do?method=download&searchType=13', header=0)[0]\n",
    "stock_df['종목코드'] = stock_df['종목코드'].map(lambda x: f'{x:0>6}')\n",
    "corp_list = stock_df[['회사명','종목코드','업종','지역']]\n",
    "corp_list"
   ]
  },
  {
   "cell_type": "code",
   "execution_count": 21,
   "metadata": {},
   "outputs": [],
   "source": [
    "corp = corp_list['회사명'].values"
   ]
  },
  {
   "cell_type": "code",
   "execution_count": 22,
   "metadata": {},
   "outputs": [
    {
     "data": {
      "text/plain": [
       "'DSR'"
      ]
     },
     "execution_count": 22,
     "metadata": {},
     "output_type": "execute_result"
    }
   ],
   "source": [
    "corp[0]"
   ]
  },
  {
   "cell_type": "code",
   "execution_count": 54,
   "metadata": {},
   "outputs": [],
   "source": [
    "driver=webdriver.Chrome(\"chromedriver.exe\")"
   ]
  },
  {
   "cell_type": "code",
   "execution_count": 55,
   "metadata": {},
   "outputs": [],
   "source": [
    "driver.get('https://www.jobplanet.co.kr/search?query='+corp[0]+'&category=&_rs_con=search&_rs_act=index&_rs_element=main_search_bar')\n",
    "# html = driver.page_source\n",
    "# soup = BeautifulSoup(html)"
   ]
  },
  {
   "cell_type": "code",
   "execution_count": 56,
   "metadata": {},
   "outputs": [],
   "source": [
    "icon = driver.find_element_by_class_name(\"tit\")"
   ]
  },
  {
   "cell_type": "code",
   "execution_count": 57,
   "metadata": {},
   "outputs": [
    {
     "data": {
      "text/plain": [
       "<selenium.webdriver.remote.webelement.WebElement (session=\"8c2b772aef89f0d33fb71b1d9d425571\", element=\"a3da5f35-3b51-45ef-961b-4e5ca799da76\")>"
      ]
     },
     "execution_count": 57,
     "metadata": {},
     "output_type": "execute_result"
    }
   ],
   "source": [
    "icon"
   ]
  },
  {
   "cell_type": "code",
   "execution_count": 58,
   "metadata": {},
   "outputs": [],
   "source": [
    "icon.click()"
   ]
  },
  {
   "cell_type": "code",
   "execution_count": 59,
   "metadata": {},
   "outputs": [],
   "source": [
    "close = driver.find_elements_by_class_name(\"btn_close_x_ty1\")"
   ]
  },
  {
   "cell_type": "code",
   "execution_count": 60,
   "metadata": {},
   "outputs": [
    {
     "data": {
      "text/plain": [
       "[<selenium.webdriver.remote.webelement.WebElement (session=\"8c2b772aef89f0d33fb71b1d9d425571\", element=\"ab51c35e-f61b-48d8-8d77-a10d208f7ed8\")>,\n",
       " <selenium.webdriver.remote.webelement.WebElement (session=\"8c2b772aef89f0d33fb71b1d9d425571\", element=\"73906493-b21d-477c-bf76-e670e43b2df4\")>,\n",
       " <selenium.webdriver.remote.webelement.WebElement (session=\"8c2b772aef89f0d33fb71b1d9d425571\", element=\"d0413744-e2ae-4d6e-bb3b-12221bd2ae40\")>]"
      ]
     },
     "execution_count": 60,
     "metadata": {},
     "output_type": "execute_result"
    }
   ],
   "source": [
    "close"
   ]
  },
  {
   "cell_type": "code",
   "execution_count": 61,
   "metadata": {},
   "outputs": [],
   "source": [
    "close[1].click()"
   ]
  },
  {
   "cell_type": "code",
   "execution_count": null,
   "metadata": {},
   "outputs": [],
   "source": [
    "# 페이지소스 가져오기\n",
    "html = driver.page_source\n",
    "soup = BeautifulSoup(html)\n",
    "\n",
    "spans = soup.find_all(\"span\")"
   ]
  },
  {
   "cell_type": "code",
   "execution_count": 68,
   "metadata": {},
   "outputs": [
    {
     "data": {
      "text/plain": [
       "<span class=\"word\">DSR</span>"
      ]
     },
     "execution_count": 68,
     "metadata": {},
     "output_type": "execute_result"
    }
   ],
   "source": [
    "spans[2]"
   ]
  },
  {
   "cell_type": "code",
   "execution_count": 72,
   "metadata": {},
   "outputs": [
    {
     "data": {
      "text/plain": [
       "<span class=\"num notranslate\">43</span>"
      ]
     },
     "execution_count": 72,
     "metadata": {},
     "output_type": "execute_result"
    }
   ],
   "source": [
    "spans[15]"
   ]
  },
  {
   "cell_type": "code",
   "execution_count": 73,
   "metadata": {},
   "outputs": [
    {
     "data": {
      "text/plain": [
       "230"
      ]
     },
     "execution_count": 73,
     "metadata": {},
     "output_type": "execute_result"
    }
   ],
   "source": [
    "len(spans)"
   ]
  },
  {
   "cell_type": "code",
   "execution_count": 74,
   "metadata": {},
   "outputs": [
    {
     "data": {
      "text/plain": [
       "[<span class=\"gnb_img_wrap\"><img alt=\"멤버십\" src=\"https://jpassets.jobplanet.co.kr/production/uploads/material/media/2840/membership_default.png\"/></span>,\n",
       " <span class=\"placeholder_txt\">기업, 채용공고 검색</span>,\n",
       " <span class=\"word\">DSR</span>,\n",
       " <span>삭제</span>,\n",
       " <span>로그인</span>,\n",
       " <span>회원가입</span>,\n",
       " <span class=\"txt\">Jobplanet 기업</span>,\n",
       " <span class=\"placeholder_txt\">기업, 채용공고 검색</span>,\n",
       " <span class=\"word\">DSR</span>,\n",
       " <span>삭제</span>,\n",
       " <span class=\"img_wrap\"><img alt=\"디에스알제강(주)\" src=\"https://jpassets.jobplanet.co.kr/production/uploads/company/logo/36468/thumb_36468.JPG\"/></span>,\n",
       " <span>\n",
       "                     2.6\n",
       "                   </span>,\n",
       " <span>제조/화학</span>,\n",
       " <span class=\"dot\">·</span>,\n",
       " <span class=\"num notranslate\">\n",
       "             43\n",
       "         </span>,\n",
       " <span class=\"num notranslate\">43</span>,\n",
       " <span class=\"num notranslate\">39</span>,\n",
       " <span class=\"num notranslate\">8</span>,\n",
       " <span class=\"num notranslate\">0</span>,\n",
       " <span class=\"new\">NEW</span>,\n",
       " <span class=\"ico ico_balloon\"></span>,\n",
       " <span class=\"rate_point\">2.6</span>,\n",
       " <span class=\"bg_rate_star\"><span class=\"val_starmark\" style=\"width: 52%;\"><span class=\"alt_txt\">2.6</span></span></span>,\n",
       " <span class=\"val_starmark\" style=\"width: 52%;\"><span class=\"alt_txt\">2.6</span></span>,\n",
       " <span class=\"alt_txt\">2.6</span>,\n",
       " <span>총 만족도</span>,\n",
       " <span class=\"rate_bar_val\" style=\"max-width: 62%;\"></span>,\n",
       " <span class=\"txt_point\">3.1</span>,\n",
       " <span class=\"rate_bar_val\" style=\"max-width: 42%;\"></span>,\n",
       " <span class=\"txt_point\">2.1</span>,\n",
       " <span class=\"rate_bar_val\" style=\"max-width: 46%;\"></span>,\n",
       " <span class=\"txt_point\">2.3</span>,\n",
       " <span class=\"rate_bar_val\" style=\"max-width: 50%;\"></span>,\n",
       " <span class=\"txt_point\">2.5</span>,\n",
       " <span class=\"rate_bar_val\" style=\"max-width: 44%;\"></span>,\n",
       " <span class=\"txt_point\">2.2</span>,\n",
       " <span class=\"txt_point\">28%</span>,\n",
       " <span class=\"txt_point\">35%</span>,\n",
       " <span class=\"txt_point\">12%</span>,\n",
       " <span class=\"menu_guide guide_left\">이전</span>,\n",
       " <span class=\"menu_guide guide_right\">다음</span>,\n",
       " <span class=\"badge\"></span>,\n",
       " <span class=\"badge\"></span>,\n",
       " <span class=\"badge\"></span>,\n",
       " <span class=\"badge badge_new\"></span>,\n",
       " <span class=\"outline\"></span>,\n",
       " <span class=\"outline\"></span>,\n",
       " <span class=\"outline\"></span>,\n",
       " <span class=\"text\">75%</span>,\n",
       " <span class=\"tit\">나의 성향</span>,\n",
       " <span class=\"tit\">기업 성향</span>,\n",
       " <span class=\"badge\">\n",
       "         43</span>,\n",
       " <span class=\"badge badge_new\"></span>,\n",
       " <span>익명 설문 조사</span>,\n",
       " <span class=\"num\">43</span>,\n",
       " <span class=\"num\">43</span>,\n",
       " <span class=\"ico_pers\"></span>,\n",
       " <span class=\"txt1\">생산/제조</span>,\n",
       " <span class=\"vbar\">|</span>,\n",
       " <span class=\"txt1\">전직원</span>,\n",
       " <span class=\"vbar\">|</span>,\n",
       " <span class=\"txt1\">전남</span>,\n",
       " <span class=\"vbar\">|</span>,\n",
       " <span class=\"txt2\">2020. 05. 14</span>,\n",
       " <span class=\"company_unit_text\">컴퍼니 타임스</span>,\n",
       " <span class=\"ico_pers\"></span>,\n",
       " <span class=\"txt1\">법률/법무</span>,\n",
       " <span class=\"vbar\">|</span>,\n",
       " <span class=\"txt1\">전직원</span>,\n",
       " <span class=\"vbar\">|</span>,\n",
       " <span class=\"txt1\">서울</span>,\n",
       " <span class=\"vbar\">|</span>,\n",
       " <span class=\"txt2\">2020. 05. 13</span>,\n",
       " <span class=\"non_skip\" style=\"display:none;\"></span>,\n",
       " <span class=\"ico_pers\"></span>,\n",
       " <span class=\"txt1\">생산/제조</span>,\n",
       " <span class=\"vbar\">|</span>,\n",
       " <span class=\"txt1\">전직원</span>,\n",
       " <span class=\"vbar\">|</span>,\n",
       " <span class=\"txt1\">전남</span>,\n",
       " <span class=\"vbar\">|</span>,\n",
       " <span class=\"txt2\">2020. 02. 18</span>,\n",
       " <span class=\"ico_pers\"></span>,\n",
       " <span class=\"txt1\">생산/제조</span>,\n",
       " <span class=\"vbar\">|</span>,\n",
       " <span class=\"txt1\">전직원</span>,\n",
       " <span class=\"vbar\">|</span>,\n",
       " <span class=\"txt1\">전남</span>,\n",
       " <span class=\"vbar\">|</span>,\n",
       " <span class=\"txt2\">2020. 01. 31</span>,\n",
       " <span class=\"ico_pers\"></span>,\n",
       " <span class=\"txt1\">인사/총무</span>,\n",
       " <span class=\"vbar\">|</span>,\n",
       " <span class=\"txt1\">전직원</span>,\n",
       " <span class=\"vbar\">|</span>,\n",
       " <span class=\"txt1\">전남</span>,\n",
       " <span class=\"vbar\">|</span>,\n",
       " <span class=\"txt2\">2020. 01. 22</span>,\n",
       " <span><span class=\"translation_missing\" title=\"translation missing: ko-KR.button.first\">First</span></span>,\n",
       " <span class=\"translation_missing\" title=\"translation missing: ko-KR.button.first\">First</span>,\n",
       " <span><span class=\"translation_missing\" title=\"translation missing: ko-KR.button.prev\">Prev</span></span>,\n",
       " <span class=\"translation_missing\" title=\"translation missing: ko-KR.button.prev\">Prev</span>,\n",
       " <span><span class=\"translation_missing\" title=\"translation missing: ko-KR.button.next\">Next</span></span>,\n",
       " <span class=\"translation_missing\" title=\"translation missing: ko-KR.button.next\">Next</span>,\n",
       " <span><span class=\"translation_missing\" title=\"translation missing: ko-KR.button.last\">Last</span></span>,\n",
       " <span class=\"translation_missing\" title=\"translation missing: ko-KR.button.last\">Last</span>,\n",
       " <span class=\"text_hidden\">ad</span>,\n",
       " <span class=\"text_hidden\">ad</span>,\n",
       " <span class=\"order_num\">1</span>,\n",
       " <span class=\"order_num\">2</span>,\n",
       " <span class=\"order_num\">3</span>,\n",
       " <span class=\"order_num\">4</span>,\n",
       " <span class=\"order_num\">5</span>,\n",
       " <span class=\"order_num\">6</span>,\n",
       " <span class=\"order_num\">7</span>,\n",
       " <span class=\"order_num\">8</span>,\n",
       " <span class=\"order_num\">9</span>,\n",
       " <span class=\"order_num\">10</span>,\n",
       " <span class=\"vod_play\">동영상</span>,\n",
       " <span class=\"vod_time_box\">00:20:27</span>,\n",
       " <span class=\"order_num\">1</span>,\n",
       " <span class=\"vod_play\">동영상</span>,\n",
       " <span class=\"vod_time_box\">00:07:51</span>,\n",
       " <span class=\"order_num\">2</span>,\n",
       " <span class=\"vod_play\">동영상</span>,\n",
       " <span class=\"vod_time_box\">00:21:11</span>,\n",
       " <span class=\"order_num\">3</span>,\n",
       " <span class=\"vod_play\">동영상</span>,\n",
       " <span class=\"vod_time_box\">00:17:20</span>,\n",
       " <span class=\"order_num\">4</span>,\n",
       " <span class=\"vod_play\">동영상</span>,\n",
       " <span class=\"vod_time_box\">00:14:48</span>,\n",
       " <span class=\"order_num\">5</span>,\n",
       " <span class=\"vod_play\">동영상</span>,\n",
       " <span class=\"vod_time_box\">00:11:51</span>,\n",
       " <span class=\"order_num\">6</span>,\n",
       " <span class=\"vod_play\">동영상</span>,\n",
       " <span class=\"vod_time_box\">00:06:48</span>,\n",
       " <span class=\"order_num\">7</span>,\n",
       " <span class=\"premium_thumb_tag\">Premium</span>,\n",
       " <span class=\"vod_play\">동영상</span>,\n",
       " <span class=\"vod_time_box\">00:31:20</span>,\n",
       " <span class=\"order_num\">8</span>,\n",
       " <span class=\"vod_play\">동영상</span>,\n",
       " <span class=\"vod_time_box\">00:18:34</span>,\n",
       " <span class=\"order_num\">9</span>,\n",
       " <span class=\"premium_thumb_tag\">Premium</span>,\n",
       " <span class=\"vod_play\">동영상</span>,\n",
       " <span class=\"vod_time_box\">01:06:12</span>,\n",
       " <span class=\"order_num\">10</span>,\n",
       " <span>설문조사 결과</span>,\n",
       " <span class=\"checkbox_icon\"></span>,\n",
       " <span class=\"checkbox_text\">다시 보지 않기</span>,\n",
       " <span class=\"bar1\">|</span>,\n",
       " <span class=\"bar1\">|</span>,\n",
       " <span class=\"bar1\">|</span>,\n",
       " <span class=\"bar1\">|</span>,\n",
       " <span class=\"bar1\">|</span>,\n",
       " <span class=\"bar1\">|</span>,\n",
       " <span class=\"bar1\">|</span>,\n",
       " <span class=\"bar1\">|</span>,\n",
       " <span>대표   황희승, 윤신근</span>,\n",
       " <span class=\"bar1\">|</span>,\n",
       " <span class=\"privacy\">개인정보보호관리자   윤신근</span>,\n",
       " <span class=\"bus_num\">사업자등록번호   120-87-92182</span>,\n",
       " <span class=\"bar1\">|</span>,\n",
       " <span class=\"bus_num\">통신판매업 신고번호   제2014-서울강남-02942호</span>,\n",
       " <span class=\"bar1\">|</span>,\n",
       " <span class=\"rep_busi\">직업정보제공사업신고   J1200320140044</span>,\n",
       " <span class=\"bus_num\">대표번호   1644-5641 (11:00~18:00 / 점심시간 13:00~14:00) (주말 및 공휴일 휴무)</span>,\n",
       " <span class=\"copyright\">©Jobplanet. All rights reserved.</span>,\n",
       " <span class=\"after\"></span>,\n",
       " <span class=\"tit\">1. 리뷰 하나로 열람권 획득</span>,\n",
       " <span class=\"txt\">리뷰 하나만 써도 모든 기업 리뷰를 승인된 날로부터 1년간 볼 수 있습니다.<br/>잡플래닛은 당신이 가장 만족스러운 직장을 고를 수 있도록 도와줍니다. 몇분만 투자하세요!</span>,\n",
       " <span class=\"tit\">2. 매일 수백개의 기업에 대한 새로운 리뷰</span>,\n",
       " <span class=\"txt\">지금 이순간에도 수백명의 회원들이 기업리뷰를 남기고 있습니다. 그리고 당신의 친구, 직장 동료, 경쟁자들은 벌써 이런 정보를 보고 있을지도 모릅니다. 뒤쳐지지 마세요!</span>,\n",
       " <span class=\"tit\">3. 운영팀도 모르는 익명성</span>,\n",
       " <span class=\"txt\">리뷰를 검토하는 운영팀조차도 작성자가 누구인지 모릅니다. 모든 개인 정보는 암호화되며 어디에도 노출되지 않습니다. 심지어 작성자가 드러날 것만 같은 리뷰는 거절된답니다. 걱정마세요!</span>,\n",
       " <span class=\"txt\">기업리뷰의 신뢰성을 높이고 고의적 기업 평점 조작을 방지하기 위해, 작성된 모든 정보는 잡플래닛의 자체적인 검토 과정을 거쳐 등록됩니다.</span>,\n",
       " <span class=\"tit\">등록이 거부되는 이유</span>,\n",
       " <span class=\"txt\">1. 기업을 이해하는데 도움이 안 되거나 항목과 상관없는 내용</span>,\n",
       " <span class=\"txt\">2. 부서, 직급 등 개인을 특정 지을 수 있는 정보나 폄훼, 비방성 표현</span>,\n",
       " <span class=\"txt\">3. 욕설, 비속어, 은어 및 공격적인 언어</span>,\n",
       " <span class=\"txt\">4. 기업 비밀에 해당하는 내용</span>,\n",
       " <span class=\"txt\">5. 존재하지 않거나 명확하지 않은 기업명</span>,\n",
       " <span class=\"tit\">1. 직급/직종 별로 보는 정확한 연봉</span>,\n",
       " <span class=\"txt\">후회하지 않으려면 직급에 따라, 그 속 에서도 직종에 따라 달라지는 연 봉정보를 알아야 합니다. 회사 평균 연봉 같은 숫자에 당하지 마세요.</span>,\n",
       " <span class=\"tit\">2. 날마다 새로워지는, 가장 현실적인 연봉</span>,\n",
       " <span class=\"txt\">잡플래닛에서는 하루 수백건의 연봉  정보가 추가됩니다. 눈 뜨면 달라지 는 상황 속에서 언제까지 구체적 이 지도 않은 작년 연봉정보를 기준으 로 인생을 결정할 순 없으니까요.</span>,\n",
       " <span class=\"tit\">3. 친구도 안가르쳐 주는 정보</span>,\n",
       " <span class=\"txt\">멀지 않은 미래에 연봉을 좀더 구체적으로 볼 수 있는 기능이 적용 됩니 다. 누군가는 기본급에, 누군가는 상  여금에 더 큰 비중을 두니까요. 친구에게도 물어보기 어려운 정보를 기다리며, 잠깐만 투자하세요.</span>,\n",
       " <span class=\"txt\">연봉정보의 신뢰성을 높이기 위해, 작성된 모든 정보는 잡플래닛의 자체적인 검토 과정을 거쳐 등록됩니다.</span>,\n",
       " <span class=\"tit\">등록이 거부되는 이유</span>,\n",
       " <span class=\"txt\">1. 존재하지 않거나 명확하지 않은 기업명</span>,\n",
       " <span class=\"txt\">2. 기존에 입력된 연봉 정보와 비교했을 때, 지나치게 큰 차이가 나는 금액</span>,\n",
       " <span class=\"txt\">3. 직급/직종을 고려했을때 상식을 벗어난 신뢰하기 어려운 금액</span>,\n",
       " <span class=\"tit\">1. 인턴에서 이직까지. 잡플래닛의 원스톱 정보 제공 서비스</span>,\n",
       " <span class=\"txt\">노력하면 찾을 수 있는 공채 족보뿐 만 아니라, 선배한테 매달려야 알려주는 인턴 합격수기부터 그 어디에 도 없는 경력직들의 이직 면접 팁까 지. 당신의 모든 '지원'이 합격으로 끝나는 방법이 잡플래닛에 있습니다.</span>,\n",
       " <span class=\"tit\">2. 잠깐! 기업 리뷰도 보고 싶으신가요?</span>,\n",
       " <span class=\"txt\">면접후기를 제출하면 합격을 부르는 수만개의 꿀팁이 열립니다. 기업 리뷰도 보고 싶으시다면 기업 리뷰를 제출해주세요. 열려라 참깨! 의 비밀은 '기브 앤 테이크' 입니다.</span>,\n",
       " <span class=\"txt\">면접후기의 신뢰성을 높이고 고의적 기업 평점 조작을 방지하기 위해, 작성된 모든 정보는 잡플래닛의 자체적인 검토 과정을 거쳐 등록됩니다.</span>,\n",
       " <span class=\"tit\">등록이 거부되는 이유</span>,\n",
       " <span class=\"txt\">1. 존재하지 않거나 명확하지 않은 기업명</span>,\n",
       " <span class=\"txt\">2. 기업 기밀에 해당하는 내용</span>,\n",
       " <span class=\"txt\">3. 욕설, 비속어, 은어 및 공격적인 언어</span>,\n",
       " <span class=\"txt\">4. 부서, 직급 등 개인을 특정 지을 수 있는 정보나 폄훼, 비방성 표현</span>,\n",
       " <span class=\"txt\">5. 기업을 이해하는데 도움이 안되는 상관 없는 내용</span>,\n",
       " <span class=\"txt\">면접후기의 신뢰성을 높이고 고의적 기업 평점 조작을 방지하기 위해, 작성된 모든 정보는 잡플래닛의 자체적인 검토 과정을 거쳐 등록됩니다.</span>,\n",
       " <span class=\"tit\">등록이 거부되는 이유</span>,\n",
       " <span class=\"txt\">1. 존재하지 않거나 명확하지 않은 기업명</span>,\n",
       " <span class=\"txt\">2. 기업 기밀에 해당하는 내용</span>,\n",
       " <span class=\"txt\">3. 욕설, 비속어, 은어 및 공격적인 언어</span>,\n",
       " <span class=\"txt\">4. 부서, 직급 등 개인을 특정 지을 수 있는 정보나 폄훼, 비방성 표현</span>,\n",
       " <span class=\"txt\">5. 기업을 이해하는데 도움이 안되는 상관 없는 내용</span>,\n",
       " <span class=\"loading_spinner_img\">\n",
       " </span>,\n",
       " <span class=\"facebook_body\"></span>,\n",
       " <span class=\"radio_icon\"></span>,\n",
       " <span class=\"radio_txt\">혐오 표현이나 비속어 사용</span>,\n",
       " <span class=\"radio_icon\"></span>,\n",
       " <span class=\"radio_txt\">오타, 내용 반복, 무의미한 단어 나열</span>,\n",
       " <span class=\"radio_icon\"></span>,\n",
       " <span class=\"radio_txt\">다른 게시물을 도용</span>,\n",
       " <span class=\"radio_icon\"></span>,\n",
       " <span class=\"radio_txt\">기업명, 산업군, 직무가 잘못 기재</span>,\n",
       " <span class=\"radio_icon\"></span>,\n",
       " <span class=\"radio_txt\">타 기업이나 자사 제품 등에 대한 광고/홍보</span>,\n",
       " <span class=\"radio_icon\"></span>,\n",
       " <span class=\"radio_txt\">명예훼손, 사생활 침해, 개인정보 노출</span>,\n",
       " <span class=\"radio_icon\"></span>,\n",
       " <span class=\"radio_txt\">기타 권리침해 또는 기업기밀 누설</span>]"
      ]
     },
     "execution_count": 74,
     "metadata": {},
     "output_type": "execute_result"
    }
   ],
   "source": [
    "spans"
   ]
  },
  {
   "cell_type": "code",
   "execution_count": 145,
   "metadata": {},
   "outputs": [
    {
     "data": {
      "text/plain": [
       "'GS'"
      ]
     },
     "execution_count": 145,
     "metadata": {},
     "output_type": "execute_result"
    }
   ],
   "source": [
    "soup.find_all(class_='word')[0].text"
   ]
  },
  {
   "cell_type": "code",
   "execution_count": 75,
   "metadata": {},
   "outputs": [
    {
     "data": {
      "text/plain": [
       "<span class=\"gnb_img_wrap\"><img alt=\"멤버십\" src=\"https://jpassets.jobplanet.co.kr/production/uploads/material/media/2840/membership_default.png\"/></span>"
      ]
     },
     "execution_count": 75,
     "metadata": {},
     "output_type": "execute_result"
    }
   ],
   "source": [
    "spans[0]"
   ]
  },
  {
   "cell_type": "code",
   "execution_count": 76,
   "metadata": {},
   "outputs": [
    {
     "data": {
      "text/plain": [
       "<span class=\"word\">DSR</span>"
      ]
     },
     "execution_count": 76,
     "metadata": {},
     "output_type": "execute_result"
    }
   ],
   "source": [
    "spans[2]"
   ]
  },
  {
   "cell_type": "code",
   "execution_count": 101,
   "metadata": {},
   "outputs": [
    {
     "data": {
      "text/plain": [
       "'\\n                    2.6\\n                  '"
      ]
     },
     "execution_count": 101,
     "metadata": {},
     "output_type": "execute_result"
    }
   ],
   "source": [
    "spans[11].text.replace()"
   ]
  },
  {
   "cell_type": "code",
   "execution_count": 79,
   "metadata": {},
   "outputs": [
    {
     "data": {
      "text/plain": [
       "<span>제조/화학</span>"
      ]
     },
     "execution_count": 79,
     "metadata": {},
     "output_type": "execute_result"
    }
   ],
   "source": [
    "spans[12]"
   ]
  },
  {
   "cell_type": "code",
   "execution_count": 85,
   "metadata": {},
   "outputs": [
    {
     "data": {
      "text/plain": [
       "<span>총 만족도</span>"
      ]
     },
     "execution_count": 85,
     "metadata": {},
     "output_type": "execute_result"
    }
   ],
   "source": [
    "spans[25]"
   ]
  },
  {
   "cell_type": "code",
   "execution_count": 105,
   "metadata": {},
   "outputs": [
    {
     "data": {
      "text/plain": [
       "'2.6'"
      ]
     },
     "execution_count": 105,
     "metadata": {},
     "output_type": "execute_result"
    }
   ],
   "source": [
    "# 총 만족도\n",
    "spans[22].text"
   ]
  },
  {
   "cell_type": "code",
   "execution_count": 96,
   "metadata": {},
   "outputs": [
    {
     "data": {
      "text/plain": [
       "'3.1'"
      ]
     },
     "execution_count": 96,
     "metadata": {},
     "output_type": "execute_result"
    }
   ],
   "source": [
    "# 복지 및 급여\n",
    "spans[27].text"
   ]
  },
  {
   "cell_type": "code",
   "execution_count": 97,
   "metadata": {},
   "outputs": [
    {
     "data": {
      "text/plain": [
       "'2.1'"
      ]
     },
     "execution_count": 97,
     "metadata": {},
     "output_type": "execute_result"
    }
   ],
   "source": [
    "# 업무와 삶의 균형\n",
    "spans[29].text"
   ]
  },
  {
   "cell_type": "code",
   "execution_count": 98,
   "metadata": {},
   "outputs": [
    {
     "data": {
      "text/plain": [
       "'2.3'"
      ]
     },
     "execution_count": 98,
     "metadata": {},
     "output_type": "execute_result"
    }
   ],
   "source": [
    "# 사내문화\n",
    "spans[31].text"
   ]
  },
  {
   "cell_type": "code",
   "execution_count": 99,
   "metadata": {},
   "outputs": [
    {
     "data": {
      "text/plain": [
       "'2.5'"
      ]
     },
     "execution_count": 99,
     "metadata": {},
     "output_type": "execute_result"
    }
   ],
   "source": [
    "# 승진 기회 및 가능성\n",
    "spans[33].text"
   ]
  },
  {
   "cell_type": "code",
   "execution_count": 106,
   "metadata": {},
   "outputs": [
    {
     "data": {
      "text/plain": [
       "'2.2'"
      ]
     },
     "execution_count": 106,
     "metadata": {},
     "output_type": "execute_result"
    }
   ],
   "source": [
    "# 경영진\n",
    "spans[35].text"
   ]
  },
  {
   "cell_type": "code",
   "execution_count": 107,
   "metadata": {},
   "outputs": [],
   "source": [
    "driver.get('https://www.jobplanet.co.kr/search?query='+corp[1]+'&category=&_rs_con=search&_rs_act=index&_rs_element=main_search_bar')\n",
    "icon = driver.find_element_by_class_name(\"tit\")\n",
    "icon.click()"
   ]
  },
  {
   "cell_type": "code",
   "execution_count": 117,
   "metadata": {},
   "outputs": [],
   "source": [
    "html = driver.page_source\n",
    "soup = BeautifulSoup(html)\n",
    "\n",
    "spans = soup.find_all(\"span\")"
   ]
  },
  {
   "cell_type": "code",
   "execution_count": 126,
   "metadata": {},
   "outputs": [
    {
     "ename": "SyntaxError",
     "evalue": "invalid syntax (<ipython-input-126-1d568d7c1b71>, line 1)",
     "output_type": "error",
     "traceback": [
      "\u001b[1;36m  File \u001b[1;32m\"<ipython-input-126-1d568d7c1b71>\"\u001b[1;36m, line \u001b[1;32m1\u001b[0m\n\u001b[1;33m    spans.find_all(class='txt_point')\u001b[0m\n\u001b[1;37m                       ^\u001b[0m\n\u001b[1;31mSyntaxError\u001b[0m\u001b[1;31m:\u001b[0m invalid syntax\n"
     ]
    }
   ],
   "source": [
    "spans.find_all(class='txt_point')"
   ]
  },
  {
   "cell_type": "code",
   "execution_count": 132,
   "metadata": {},
   "outputs": [],
   "source": [
    "a = soup.find_all(class_name='txt_point')"
   ]
  },
  {
   "cell_type": "code",
   "execution_count": 142,
   "metadata": {},
   "outputs": [
    {
     "data": {
      "text/plain": [
       "'3.5'"
      ]
     },
     "execution_count": 142,
     "metadata": {},
     "output_type": "execute_result"
    }
   ],
   "source": [
    "soup.find_all(class_='rate_point')[0].text"
   ]
  },
  {
   "cell_type": "code",
   "execution_count": 137,
   "metadata": {},
   "outputs": [
    {
     "data": {
      "text/plain": [
       "'3.9'"
      ]
     },
     "execution_count": 137,
     "metadata": {},
     "output_type": "execute_result"
    }
   ],
   "source": [
    "soup.find_all(class_='txt_point')[0].text"
   ]
  },
  {
   "cell_type": "code",
   "execution_count": 138,
   "metadata": {},
   "outputs": [
    {
     "data": {
      "text/plain": [
       "'2.8'"
      ]
     },
     "execution_count": 138,
     "metadata": {},
     "output_type": "execute_result"
    }
   ],
   "source": [
    "soup.find_all(class_='txt_point')[4].text"
   ]
  },
  {
   "cell_type": "code",
   "execution_count": 127,
   "metadata": {},
   "outputs": [],
   "source": [
    "divs = soup.find_all(\"div\",id='premiumReviewStatistics')"
   ]
  },
  {
   "cell_type": "code",
   "execution_count": 131,
   "metadata": {},
   "outputs": [
    {
     "ename": "AttributeError",
     "evalue": "ResultSet object has no attribute 'find_all'. You're probably treating a list of elements like a single element. Did you call find_all() when you meant to call find()?",
     "output_type": "error",
     "traceback": [
      "\u001b[1;31m---------------------------------------------------------------------------\u001b[0m",
      "\u001b[1;31mAttributeError\u001b[0m                            Traceback (most recent call last)",
      "\u001b[1;32m<ipython-input-131-f15a02ff7772>\u001b[0m in \u001b[0;36m<module>\u001b[1;34m\u001b[0m\n\u001b[1;32m----> 1\u001b[1;33m \u001b[0mdivs\u001b[0m\u001b[1;33m.\u001b[0m\u001b[0mfind_all\u001b[0m\u001b[1;33m(\u001b[0m\u001b[0mclass_name\u001b[0m\u001b[1;33m=\u001b[0m\u001b[1;34m'txt_point'\u001b[0m\u001b[1;33m)\u001b[0m\u001b[1;33m\u001b[0m\u001b[1;33m\u001b[0m\u001b[0m\n\u001b[0m",
      "\u001b[1;32m~\\anaconda3\\lib\\site-packages\\bs4\\element.py\u001b[0m in \u001b[0;36m__getattr__\u001b[1;34m(self, key)\u001b[0m\n\u001b[0;32m   2079\u001b[0m         \u001b[1;34m\"\"\"Raise a helpful exception to explain a common code fix.\"\"\"\u001b[0m\u001b[1;33m\u001b[0m\u001b[1;33m\u001b[0m\u001b[0m\n\u001b[0;32m   2080\u001b[0m         raise AttributeError(\n\u001b[1;32m-> 2081\u001b[1;33m             \u001b[1;34m\"ResultSet object has no attribute '%s'. You're probably treating a list of elements like a single element. Did you call find_all() when you meant to call find()?\"\u001b[0m \u001b[1;33m%\u001b[0m \u001b[0mkey\u001b[0m\u001b[1;33m\u001b[0m\u001b[1;33m\u001b[0m\u001b[0m\n\u001b[0m\u001b[0;32m   2082\u001b[0m         )\n",
      "\u001b[1;31mAttributeError\u001b[0m: ResultSet object has no attribute 'find_all'. You're probably treating a list of elements like a single element. Did you call find_all() when you meant to call find()?"
     ]
    }
   ],
   "source": [
    "divs.find_all(class_name='txt_point')"
   ]
  },
  {
   "cell_type": "code",
   "execution_count": 119,
   "metadata": {},
   "outputs": [
    {
     "ename": "AttributeError",
     "evalue": "ResultSet object has no attribute 'find_all'. You're probably treating a list of elements like a single element. Did you call find_all() when you meant to call find()?",
     "output_type": "error",
     "traceback": [
      "\u001b[1;31m---------------------------------------------------------------------------\u001b[0m",
      "\u001b[1;31mAttributeError\u001b[0m                            Traceback (most recent call last)",
      "\u001b[1;32m<ipython-input-119-7bc1107c7ff1>\u001b[0m in \u001b[0;36m<module>\u001b[1;34m\u001b[0m\n\u001b[1;32m----> 1\u001b[1;33m \u001b[0mspans\u001b[0m\u001b[1;33m.\u001b[0m\u001b[0mfind_all\u001b[0m\u001b[1;33m(\u001b[0m\u001b[1;34m\"text_point\"\u001b[0m\u001b[1;33m)\u001b[0m\u001b[1;33m\u001b[0m\u001b[1;33m\u001b[0m\u001b[0m\n\u001b[0m",
      "\u001b[1;32m~\\anaconda3\\lib\\site-packages\\bs4\\element.py\u001b[0m in \u001b[0;36m__getattr__\u001b[1;34m(self, key)\u001b[0m\n\u001b[0;32m   2079\u001b[0m         \u001b[1;34m\"\"\"Raise a helpful exception to explain a common code fix.\"\"\"\u001b[0m\u001b[1;33m\u001b[0m\u001b[1;33m\u001b[0m\u001b[0m\n\u001b[0;32m   2080\u001b[0m         raise AttributeError(\n\u001b[1;32m-> 2081\u001b[1;33m             \u001b[1;34m\"ResultSet object has no attribute '%s'. You're probably treating a list of elements like a single element. Did you call find_all() when you meant to call find()?\"\u001b[0m \u001b[1;33m%\u001b[0m \u001b[0mkey\u001b[0m\u001b[1;33m\u001b[0m\u001b[1;33m\u001b[0m\u001b[0m\n\u001b[0m\u001b[0;32m   2082\u001b[0m         )\n",
      "\u001b[1;31mAttributeError\u001b[0m: ResultSet object has no attribute 'find_all'. You're probably treating a list of elements like a single element. Did you call find_all() when you meant to call find()?"
     ]
    }
   ],
   "source": [
    "spans.find"
   ]
  },
  {
   "cell_type": "code",
   "execution_count": 115,
   "metadata": {},
   "outputs": [],
   "source": [
    "text_point = soup.find_all(\"text_point\")"
   ]
  },
  {
   "cell_type": "code",
   "execution_count": 116,
   "metadata": {},
   "outputs": [
    {
     "data": {
      "text/plain": [
       "[]"
      ]
     },
     "execution_count": 116,
     "metadata": {},
     "output_type": "execute_result"
    }
   ],
   "source": [
    "text_point"
   ]
  },
  {
   "cell_type": "code",
   "execution_count": 109,
   "metadata": {},
   "outputs": [
    {
     "data": {
      "text/plain": [
       "'0'"
      ]
     },
     "execution_count": 109,
     "metadata": {},
     "output_type": "execute_result"
    }
   ],
   "source": [
    "spans[22].text"
   ]
  },
  {
   "cell_type": "code",
   "execution_count": 110,
   "metadata": {},
   "outputs": [
    {
     "data": {
      "text/plain": [
       "'3.5'"
      ]
     },
     "execution_count": 110,
     "metadata": {},
     "output_type": "execute_result"
    }
   ],
   "source": [
    "spans[27].text"
   ]
  },
  {
   "cell_type": "code",
   "execution_count": 111,
   "metadata": {},
   "outputs": [
    {
     "data": {
      "text/plain": [
       "'총 만족도'"
      ]
     },
     "execution_count": 111,
     "metadata": {},
     "output_type": "execute_result"
    }
   ],
   "source": [
    "spans[29].text"
   ]
  },
  {
   "cell_type": "code",
   "execution_count": 112,
   "metadata": {},
   "outputs": [
    {
     "data": {
      "text/plain": [
       "'3.9'"
      ]
     },
     "execution_count": 112,
     "metadata": {},
     "output_type": "execute_result"
    }
   ],
   "source": [
    "spans[31].text"
   ]
  },
  {
   "cell_type": "code",
   "execution_count": null,
   "metadata": {},
   "outputs": [],
   "source": []
  }
 ],
 "metadata": {
  "kernelspec": {
   "display_name": "Python 3",
   "language": "python",
   "name": "python3"
  },
  "language_info": {
   "codemirror_mode": {
    "name": "ipython",
    "version": 3
   },
   "file_extension": ".py",
   "mimetype": "text/x-python",
   "name": "python",
   "nbconvert_exporter": "python",
   "pygments_lexer": "ipython3",
   "version": "3.7.6"
  }
 },
 "nbformat": 4,
 "nbformat_minor": 4
}
