{
 "cells": [
  {
   "cell_type": "code",
   "execution_count": 2,
   "metadata": {},
   "outputs": [],
   "source": [
    "import pandas as pd"
   ]
  },
  {
   "cell_type": "code",
   "execution_count": 1,
   "metadata": {},
   "outputs": [],
   "source": [
    "import dart_fss\n",
    "from dart_fss import get_corp_list\n",
    "\n",
    "api_key='960a281f210548c84eb6c951ec3a10587b1ede65' \n",
    "dart_fss.set_api_key(api_key=api_key)\n",
    "\n",
    "corp_list = dart_fss.corp.get_corp_list()"
   ]
  },
  {
   "cell_type": "code",
   "execution_count": null,
   "metadata": {},
   "outputs": [],
   "source": []
  },
  {
   "cell_type": "code",
   "execution_count": null,
   "metadata": {},
   "outputs": [],
   "source": [
    "## 재무상태표"
   ]
  },
  {
   "cell_type": "code",
   "execution_count": null,
   "metadata": {},
   "outputs": [],
   "source": [
    "a = corp_list.find_by_stock_code(i)\n",
    "fs_separate = a.extract_fs(bgn_de=i, separate=True)\n",
    "fs = fs_separate[0].fillna(method='ffill', axis=1)\n",
    "class3 = fs['[D210005] Statement of financial position, current/non-current - Separate financial statements (Unit: KRW)',\n",
    " 'class3'].values\n",
    "last = fs['20191231'].values\n",
    "last = last.reshape(-1)\n",
    "dict={'계정':list(class3),a.corp_name:list(last)}\n",
    "fs1 = pd.DataFrame(dict)"
   ]
  },
  {
   "cell_type": "code",
   "execution_count": null,
   "metadata": {},
   "outputs": [],
   "source": []
  },
  {
   "cell_type": "code",
   "execution_count": null,
   "metadata": {},
   "outputs": [],
   "source": [
    "## 포괄손익계산서"
   ]
  },
  {
   "cell_type": "code",
   "execution_count": null,
   "metadata": {},
   "outputs": [],
   "source": [
    "a = corp_list.find_by_stock_code(i)\n",
    "fs_separate = a.extract_fs(bgn_de=i, separate=True)\n",
    "cis = fs_separate[2].fillna(method='ffill', axis=1)\n",
    "class3 = cis['[D431415] Statement of comprehensive income, by function of expense - Separate financial statements (Unit: KRW)',\n",
    " 'class3'].values\n",
    "last = cis['20190101-20191231'].values\n",
    "last = last.reshape(-1)\n",
    "dict={'계정':list(class3),a.corp_name:list(last)}\n",
    "cis1 = pd.DataFrame(dict)"
   ]
  },
  {
   "cell_type": "code",
   "execution_count": null,
   "metadata": {},
   "outputs": [],
   "source": []
  },
  {
   "cell_type": "code",
   "execution_count": null,
   "metadata": {},
   "outputs": [],
   "source": [
    "## 현금흐름표"
   ]
  },
  {
   "cell_type": "code",
   "execution_count": null,
   "metadata": {},
   "outputs": [],
   "source": [
    "a = corp_list.find_by_stock_code(i)\n",
    "fs_separate = a.extract_fs(bgn_de=i, separate=True)\n",
    "cf = fs_separate[3].fillna(method='ffill', axis=1)\n",
    "class3 = cf['[D520005] Statement of cash flows, indirect method - Separate financial statements (Unit: KRW)',\n",
    " 'class3'].values\n",
    "last = cf['20190101-20191231'].values\n",
    "last = last.reshape(-1)\n",
    "dict={'계정':list(class3),a.corp_name:list(last)}\n",
    "cf1 = pd.DataFrame(dict)"
   ]
  }
 ],
 "metadata": {
  "kernelspec": {
   "display_name": "Python 3",
   "language": "python",
   "name": "python3"
  },
  "language_info": {
   "codemirror_mode": {
    "name": "ipython",
    "version": 3
   },
   "file_extension": ".py",
   "mimetype": "text/x-python",
   "name": "python",
   "nbconvert_exporter": "python",
   "pygments_lexer": "ipython3",
   "version": "3.7.6"
  }
 },
 "nbformat": 4,
 "nbformat_minor": 4
}
